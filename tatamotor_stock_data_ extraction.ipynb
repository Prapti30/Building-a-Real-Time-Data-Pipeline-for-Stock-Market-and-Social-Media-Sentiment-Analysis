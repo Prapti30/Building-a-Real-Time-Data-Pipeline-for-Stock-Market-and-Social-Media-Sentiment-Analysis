{
 "cells": [
  {
   "cell_type": "code",
   "execution_count": null,
   "id": "a89a9565-ba07-4308-818d-c8cbdf29a7c9",
   "metadata": {},
   "outputs": [
    {
     "name": "stdout",
     "output_type": "stream",
     "text": [
      "Scheduler started. Fetching stock data daily.\n",
      "Fetching data for TATAMOTORS.BO...\n",
      "Stock data has been updated in 'Tatamotors_stock_data.csv'.\n"
     ]
    }
   ],
   "source": [
    "import yfinance as yf\n",
    "import pandas as pd\n",
    "import os\n",
    "from datetime import datetime\n",
    "from apscheduler.schedulers.blocking import BlockingScheduler\n",
    "\n",
    "# List of Indian stock tickers\n",
    "tickers = [\"TATAMOTORS.BO\"]\n",
    "\n",
    "# Function to get stock data and info\n",
    "def get_stock_data(tickers):\n",
    "    stock_data = []\n",
    "    for ticker in tickers:\n",
    "        try:\n",
    "            print(f\"Fetching data for {ticker}...\")\n",
    "            data = yf.Ticker(ticker)\n",
    "            \n",
    "            # Get historical market data for the last day\n",
    "            history = data.history(period=\"1d\")\n",
    "            \n",
    "            # Convert to DataFrame and ensure datetime columns are timezone-naive\n",
    "            history.index = history.index.tz_localize(None)\n",
    "            \n",
    "            # Add a column for the stock ticker\n",
    "            history['Ticker'] = ticker\n",
    "            \n",
    "            # Append the data to the list\n",
    "            stock_data.append(history)\n",
    "            \n",
    "        except Exception as e:\n",
    "            print(f\"Error fetching data for {ticker}: {e}\")\n",
    "    \n",
    "    # Concatenate all the stock data into a single DataFrame\n",
    "    all_data = pd.concat(stock_data)\n",
    "    \n",
    "    return all_data\n",
    "\n",
    "# Function to save data to CSV and update it\n",
    "def save_stock_data_to_csv():\n",
    "    # Get stock data\n",
    "    all_stock_data = get_stock_data(tickers)\n",
    "    \n",
    "    # Load existing data if it exists\n",
    "    file_exists = os.path.isfile('Tatamotors_stock_data.csv')\n",
    "    \n",
    "    if file_exists:\n",
    "        # Read existing data\n",
    "        existing_data = pd.read_csv('Tatamotors_stock_data.csv', index_col=0, parse_dates=True)\n",
    "        # Concatenate new data with existing data\n",
    "        updated_data = pd.concat([existing_data, all_stock_data])\n",
    "        # Drop duplicates based on the index\n",
    "        updated_data = updated_data[~updated_data.index.duplicated(keep='last')]\n",
    "    else:\n",
    "        # If the file does not exist, use the new data\n",
    "        updated_data = all_stock_data\n",
    "    \n",
    "    # Save the updated data to CSV\n",
    "    updated_data.to_csv('Tatamotors_stock_data.csv')\n",
    "    \n",
    "    print(\"Stock data has been updated in 'Tatamotors_stock_data.csv'.\")\n",
    "\n",
    "# Scheduler setup\n",
    "if __name__ == \"__main__\":\n",
    "    scheduler = BlockingScheduler()\n",
    "\n",
    "    \n",
    "    # Schedule the stock fetching function to run daily\n",
    "    scheduler.add_job(save_stock_data_to_csv, 'interval', days=1)\n",
    "    \n",
    "    # Start the scheduler\n",
    "    print(\"Scheduler started. Fetching stock data daily.\")\n",
    "    save_stock_data_to_csv()  # Fetch data immediately on start\n",
    "    scheduler.start()\n"
   ]
  },
  {
   "cell_type": "code",
   "execution_count": null,
   "id": "8f1afed6-8820-43d2-8be3-1c76f8fdaf29",
   "metadata": {},
   "outputs": [],
   "source": []
  }
 ],
 "metadata": {
  "kernelspec": {
   "display_name": "Python 3 (ipykernel)",
   "language": "python",
   "name": "python3"
  },
  "language_info": {
   "codemirror_mode": {
    "name": "ipython",
    "version": 3
   },
   "file_extension": ".py",
   "mimetype": "text/x-python",
   "name": "python",
   "nbconvert_exporter": "python",
   "pygments_lexer": "ipython3",
   "version": "3.10.0"
  }
 },
 "nbformat": 4,
 "nbformat_minor": 5
}
